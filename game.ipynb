{
 "cells": [
  {
   "cell_type": "markdown",
   "metadata": {},
   "source": [
    "# WAR (Card Game)\n"
   ]
  },
  {
   "cell_type": "markdown",
   "metadata": {},
   "source": [
    "## Imports\n"
   ]
  },
  {
   "cell_type": "code",
   "execution_count": 1,
   "metadata": {},
   "outputs": [],
   "source": [
    "# needed for shuffle\n",
    "import random\n",
    "import pandas as pd\n"
   ]
  },
  {
   "cell_type": "markdown",
   "metadata": {},
   "source": [
    "---\n"
   ]
  },
  {
   "cell_type": "markdown",
   "metadata": {},
   "source": [
    "## Variables\n"
   ]
  },
  {
   "cell_type": "code",
   "execution_count": 2,
   "metadata": {},
   "outputs": [],
   "source": [
    "suits = (\"Hearts\", \"Diamonds\", \"Spades\", \"Clubs\")\n",
    "ranks = (\n",
    "    \"Two\",\n",
    "    \"Three\",\n",
    "    \"Four\",\n",
    "    \"Five\",\n",
    "    \"Six\",\n",
    "    \"Seven\",\n",
    "    \"Eight\",\n",
    "    \"Nine\",\n",
    "    \"Ten\",\n",
    "    \"Jack\",\n",
    "    \"Queen\",\n",
    "    \"King\",\n",
    "    \"Ace\",\n",
    ")\n",
    "values = {\n",
    "    \"Two\": 2,\n",
    "    \"Three\": 3,\n",
    "    \"Four\": 4,\n",
    "    \"Five\": 5,\n",
    "    \"Six\": 6,\n",
    "    \"Seven\": 7,\n",
    "    \"Eight\": 8,\n",
    "    \"Nine\": 9,\n",
    "    \"Ten\": 10,\n",
    "    \"Jack\": 11,\n",
    "    \"Queen\": 12,\n",
    "    \"King\": 13,\n",
    "    \"Ace\": 14,\n",
    "}\n"
   ]
  },
  {
   "cell_type": "markdown",
   "metadata": {},
   "source": [
    "---\n"
   ]
  },
  {
   "cell_type": "markdown",
   "metadata": {},
   "source": [
    "## Card Class\n"
   ]
  },
  {
   "cell_type": "code",
   "execution_count": 3,
   "metadata": {},
   "outputs": [],
   "source": [
    "class Card:\n",
    "    def __init__(self, suit, rank):\n",
    "        self.suit = suit\n",
    "        self.rank = rank\n",
    "        self.value = values[rank]\n",
    "\n",
    "    def __str__(self):\n",
    "        return f\"{self.rank} of {self.suit}\"\n"
   ]
  },
  {
   "cell_type": "markdown",
   "metadata": {},
   "source": [
    "### Example Card\n"
   ]
  },
  {
   "cell_type": "code",
   "execution_count": 4,
   "metadata": {},
   "outputs": [
    {
     "data": {
      "text/plain": [
       "<__main__.Card at 0x7f7a70fc6040>"
      ]
     },
     "execution_count": 4,
     "metadata": {},
     "output_type": "execute_result"
    }
   ],
   "source": [
    "two_hearts = Card(suits[0], ranks[0])\n",
    "two_hearts"
   ]
  },
  {
   "cell_type": "markdown",
   "metadata": {},
   "source": [
    "#### `def __init__`\n"
   ]
  },
  {
   "cell_type": "code",
   "execution_count": 5,
   "metadata": {},
   "outputs": [
    {
     "name": "stdout",
     "output_type": "stream",
     "text": [
      "Rank: Two\n",
      "Suit: Hearts\n",
      "Value: 2\n"
     ]
    }
   ],
   "source": [
    "print(f\"Rank: {two_hearts.rank}\")\n",
    "print(f\"Suit: {two_hearts.suit}\")\n",
    "print(f\"Value: {two_hearts.value}\")  # values[two_hearts.rank]\n"
   ]
  },
  {
   "cell_type": "markdown",
   "metadata": {},
   "source": [
    "#### `def __str__`\n"
   ]
  },
  {
   "cell_type": "code",
   "execution_count": 6,
   "metadata": {},
   "outputs": [
    {
     "name": "stdout",
     "output_type": "stream",
     "text": [
      "Two of Hearts\n"
     ]
    }
   ],
   "source": [
    "print(two_hearts)\n"
   ]
  },
  {
   "cell_type": "markdown",
   "metadata": {},
   "source": [
    "---\n"
   ]
  },
  {
   "cell_type": "markdown",
   "metadata": {},
   "source": [
    "## Deck Class\n"
   ]
  },
  {
   "cell_type": "code",
   "execution_count": 7,
   "metadata": {},
   "outputs": [],
   "source": [
    "class Deck:\n",
    "    # Creates Deck of Cards containing all ranks in each suit\n",
    "    def __init__(self):\n",
    "        self.all_cards = []\n",
    "        for suit in suits:\n",
    "            for rank in ranks:\n",
    "                self.all_cards.append(Card(suit, rank))\n",
    "\n",
    "    # Creates shuffled Deck\n",
    "    def shuffle(self):\n",
    "        random.shuffle(self.all_cards)\n",
    "\n",
    "    # Removes a Card from top of Deck\n",
    "    def deal_one(self):\n",
    "        return self.all_cards.pop()\n"
   ]
  },
  {
   "cell_type": "markdown",
   "metadata": {},
   "source": [
    "### Check Deck Creation\n"
   ]
  },
  {
   "cell_type": "code",
   "execution_count": 8,
   "metadata": {},
   "outputs": [
    {
     "data": {
      "text/html": [
       "<div>\n",
       "<style scoped>\n",
       "    .dataframe tbody tr th:only-of-type {\n",
       "        vertical-align: middle;\n",
       "    }\n",
       "\n",
       "    .dataframe tbody tr th {\n",
       "        vertical-align: top;\n",
       "    }\n",
       "\n",
       "    .dataframe thead th {\n",
       "        text-align: right;\n",
       "    }\n",
       "</style>\n",
       "<table border=\"1\" class=\"dataframe\">\n",
       "  <thead>\n",
       "    <tr style=\"text-align: right;\">\n",
       "      <th></th>\n",
       "      <th>Two</th>\n",
       "      <th>Three</th>\n",
       "      <th>Four</th>\n",
       "      <th>Five</th>\n",
       "      <th>Six</th>\n",
       "      <th>Seven</th>\n",
       "      <th>Eight</th>\n",
       "      <th>Nine</th>\n",
       "      <th>Ten</th>\n",
       "      <th>Jack</th>\n",
       "      <th>Queen</th>\n",
       "      <th>King</th>\n",
       "      <th>Ace</th>\n",
       "    </tr>\n",
       "  </thead>\n",
       "  <tbody>\n",
       "    <tr>\n",
       "      <th>Hearts</th>\n",
       "      <td>✓</td>\n",
       "      <td>✓</td>\n",
       "      <td>✓</td>\n",
       "      <td>✓</td>\n",
       "      <td>✓</td>\n",
       "      <td>✓</td>\n",
       "      <td>✓</td>\n",
       "      <td>✓</td>\n",
       "      <td>✓</td>\n",
       "      <td>✓</td>\n",
       "      <td>✓</td>\n",
       "      <td>✓</td>\n",
       "      <td>✓</td>\n",
       "    </tr>\n",
       "    <tr>\n",
       "      <th>Diamonds</th>\n",
       "      <td>✓</td>\n",
       "      <td>✓</td>\n",
       "      <td>✓</td>\n",
       "      <td>✓</td>\n",
       "      <td>✓</td>\n",
       "      <td>✓</td>\n",
       "      <td>✓</td>\n",
       "      <td>✓</td>\n",
       "      <td>✓</td>\n",
       "      <td>✓</td>\n",
       "      <td>✓</td>\n",
       "      <td>✓</td>\n",
       "      <td>✓</td>\n",
       "    </tr>\n",
       "    <tr>\n",
       "      <th>Spades</th>\n",
       "      <td>✓</td>\n",
       "      <td>✓</td>\n",
       "      <td>✓</td>\n",
       "      <td>✓</td>\n",
       "      <td>✓</td>\n",
       "      <td>✓</td>\n",
       "      <td>✓</td>\n",
       "      <td>✓</td>\n",
       "      <td>✓</td>\n",
       "      <td>✓</td>\n",
       "      <td>✓</td>\n",
       "      <td>✓</td>\n",
       "      <td>✓</td>\n",
       "    </tr>\n",
       "    <tr>\n",
       "      <th>Clubs</th>\n",
       "      <td>✓</td>\n",
       "      <td>✓</td>\n",
       "      <td>✓</td>\n",
       "      <td>✓</td>\n",
       "      <td>✓</td>\n",
       "      <td>✓</td>\n",
       "      <td>✓</td>\n",
       "      <td>✓</td>\n",
       "      <td>✓</td>\n",
       "      <td>✓</td>\n",
       "      <td>✓</td>\n",
       "      <td>✓</td>\n",
       "      <td>✓</td>\n",
       "    </tr>\n",
       "  </tbody>\n",
       "</table>\n",
       "</div>"
      ],
      "text/plain": [
       "         Two Three Four Five Six Seven Eight Nine Ten Jack Queen King Ace\n",
       "Hearts     ✓     ✓    ✓    ✓   ✓     ✓     ✓    ✓   ✓    ✓     ✓    ✓   ✓\n",
       "Diamonds   ✓     ✓    ✓    ✓   ✓     ✓     ✓    ✓   ✓    ✓     ✓    ✓   ✓\n",
       "Spades     ✓     ✓    ✓    ✓   ✓     ✓     ✓    ✓   ✓    ✓     ✓    ✓   ✓\n",
       "Clubs      ✓     ✓    ✓    ✓   ✓     ✓     ✓    ✓   ✓    ✓     ✓    ✓   ✓"
      ]
     },
     "execution_count": 8,
     "metadata": {},
     "output_type": "execute_result"
    }
   ],
   "source": [
    "checks = []\n",
    "\n",
    "for suit in suits:\n",
    "    suit_box = []\n",
    "    for rank in ranks:\n",
    "        suit_box.append(u\"\\u2713\")\n",
    "    checks.append(suit_box)\n",
    "\n",
    "pd.DataFrame(checks, suits, ranks)\n",
    "\n"
   ]
  },
  {
   "cell_type": "markdown",
   "metadata": {},
   "source": [
    "### Example Deck\n"
   ]
  },
  {
   "cell_type": "code",
   "execution_count": 9,
   "metadata": {},
   "outputs": [
    {
     "data": {
      "text/plain": [
       "<__main__.Deck at 0x7f7a70fc6160>"
      ]
     },
     "execution_count": 9,
     "metadata": {},
     "output_type": "execute_result"
    }
   ],
   "source": [
    "sample_deck = Deck()\n",
    "sample_deck\n"
   ]
  },
  {
   "cell_type": "markdown",
   "metadata": {},
   "source": [
    "#### `def __init__`\n"
   ]
  },
  {
   "cell_type": "code",
   "execution_count": 10,
   "metadata": {},
   "outputs": [
    {
     "data": {
      "text/plain": [
       "<__main__.Card at 0x7f7a70fc6ca0>"
      ]
     },
     "execution_count": 10,
     "metadata": {},
     "output_type": "execute_result"
    }
   ],
   "source": [
    "sample_deck.all_cards[0]\n"
   ]
  },
  {
   "cell_type": "code",
   "execution_count": 11,
   "metadata": {},
   "outputs": [
    {
     "name": "stdout",
     "output_type": "stream",
     "text": [
      "Two of Hearts\n"
     ]
    }
   ],
   "source": [
    "print(sample_deck.all_cards[0])\n"
   ]
  },
  {
   "cell_type": "markdown",
   "metadata": {},
   "source": [
    "#### `def shuffle`\n"
   ]
  },
  {
   "cell_type": "code",
   "execution_count": 12,
   "metadata": {},
   "outputs": [
    {
     "name": "stdout",
     "output_type": "stream",
     "text": [
      "Ten of Clubs\n"
     ]
    }
   ],
   "source": [
    "sample_deck.shuffle()\n",
    "print(sample_deck.all_cards[0])\n"
   ]
  },
  {
   "cell_type": "markdown",
   "metadata": {},
   "source": [
    "#### `def deal_one`\n"
   ]
  },
  {
   "cell_type": "code",
   "execution_count": 13,
   "metadata": {},
   "outputs": [
    {
     "name": "stdout",
     "output_type": "stream",
     "text": [
      "King of Diamonds\n"
     ]
    }
   ],
   "source": [
    "dealt_card = sample_deck.deal_one()\n",
    "print(dealt_card)\n"
   ]
  },
  {
   "cell_type": "markdown",
   "metadata": {},
   "source": [
    "---\n"
   ]
  },
  {
   "cell_type": "markdown",
   "metadata": {},
   "source": [
    "## Player Class\n"
   ]
  },
  {
   "cell_type": "code",
   "execution_count": 14,
   "metadata": {},
   "outputs": [],
   "source": [
    "class Player:\n",
    "    def __init__(self, name):\n",
    "        self.name = name\n",
    "        self.all_cards = []\n",
    "\n",
    "    def remove_one(self):\n",
    "        return self.all_cards.pop(0)\n",
    "\n",
    "    def add_cards(self, new_cards):\n",
    "        if type(new_cards) == type([]):\n",
    "            self.all_cards.extend(new_cards)\n",
    "        else:\n",
    "            self.all_cards.append(new_cards)\n"
   ]
  },
  {
   "cell_type": "markdown",
   "metadata": {},
   "source": [
    "---\n"
   ]
  },
  {
   "cell_type": "markdown",
   "metadata": {},
   "source": [
    "## Game Setup\n"
   ]
  },
  {
   "cell_type": "code",
   "execution_count": null,
   "metadata": {},
   "outputs": [],
   "source": []
  },
  {
   "cell_type": "markdown",
   "metadata": {},
   "source": [
    "---\n"
   ]
  },
  {
   "cell_type": "markdown",
   "metadata": {},
   "source": [
    "## Game Logic\n"
   ]
  }
 ],
 "metadata": {
  "interpreter": {
   "hash": "612f6044287df9c032e1772dbbafada211fbf5732980ceb396b82e0816b91af7"
  },
  "kernelspec": {
   "display_name": "Python 3.9.7 ('base')",
   "language": "python",
   "name": "python3"
  },
  "language_info": {
   "codemirror_mode": {
    "name": "ipython",
    "version": 3
   },
   "file_extension": ".py",
   "mimetype": "text/x-python",
   "name": "python",
   "nbconvert_exporter": "python",
   "pygments_lexer": "ipython3",
   "version": "3.9.7"
  },
  "orig_nbformat": 4
 },
 "nbformat": 4,
 "nbformat_minor": 2
}
